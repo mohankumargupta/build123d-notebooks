{
 "cells": [
  {
   "cell_type": "code",
   "execution_count": null,
   "metadata": {
    "vscode": {
     "languageId": "plaintext"
    }
   },
   "outputs": [],
   "source": [
    "# Installing build123d\n",
    "\n",
    "!pip install trianglesolver anytree ocpsvg ezdxf svgpathtools py-lib3mf\n",
    "!pip install --no-deps build123d\n",
    "\n",
    "\n",
    "# Installing ipyvolume and friends\n",
    "\n",
    "!pip install ipyvolume numpy-stl numpy\n",
    "!jupyter nbextension enable --py --sys-prefix ipyvolume\n",
    "\n"
   ]
  },
  {
   "cell_type": "code",
   "execution_count": null,
   "metadata": {
    "vscode": {
     "languageId": "plaintext"
    }
   },
   "outputs": [],
   "source": [
    "from io import BytesIO\n",
    "from build123d import Compound, ExportSVG, LineType\n",
    "\n",
    "def write_svg(part, view_port_origin=(-100, 100, 150)):\n",
    "    \"\"\"\n",
    "    Save an image of the BuildPart object as SVG to a StringIO or a file.\n",
    "\n",
    "    Parameters:\n",
    "        part: The BuildPart object to project.\n",
    "        output: A StringIO object or a file path (str) where SVG content will be written.\n",
    "        view_port_origin: A tuple defining the viewport origin for the projection.\n",
    "    \"\"\"\n",
    "    visible, hidden = part.project_to_viewport(view_port_origin)\n",
    "    max_dimension = max(*Compound(children=visible + hidden).bounding_box().size)\n",
    "    exporter = ExportSVG(scale=100 / max_dimension)\n",
    "    exporter.add_layer(\"Visible\", line_weight=0.2)\n",
    "    exporter.add_layer(\"Hidden\", line_color=(99, 99, 99), line_type=LineType.ISO_DOT)\n",
    "    exporter.add_shape(visible, layer=\"Visible\")\n",
    "    exporter.add_shape(hidden, layer=\"Hidden\")\n",
    "\n",
    "    bytes = BytesIO()\n",
    "    exporter.write(bytes)\n",
    "    svg = bytes.getvalue().decode(\"utf-8\")\n",
    "    return svg\n",
    "\n"
   ]
  },
  {
   "cell_type": "code",
   "execution_count": null,
   "metadata": {
    "vscode": {
     "languageId": "plaintext"
    }
   },
   "outputs": [],
   "source": [
    "# Example 1 Hello world\n",
    "\n",
    "from build123d import *\n",
    "box = Box(10,10,10)\n",
    "\n"
   ]
  },
  {
   "cell_type": "code",
   "execution_count": null,
   "metadata": {
    "vscode": {
     "languageId": "plaintext"
    }
   },
   "outputs": [],
   "source": [
    "from IPython.display import HTML\n",
    "\n",
    "svg_example1 = write_svg(box)\n",
    "HTML(svg_example1)"
   ]
  },
  {
   "cell_type": "code",
   "execution_count": null,
   "metadata": {
    "vscode": {
     "languageId": "plaintext"
    }
   },
   "outputs": [],
   "source": [
    "# Example 2 from readthedocs build123d\n",
    "\n",
    "import build123d as bd\n",
    "\n",
    "with bd.BuildPart() as bp:\n",
    "    bd.Box(3, 3, 3)\n",
    "    with bd.BuildSketch(*bp.faces()):\n",
    "        bd.Rectangle(1, 2, rotation=45)\n",
    "    bd.extrude(amount=0.1)\n",
    "\n",
    "example2 = bp.part"
   ]
  },
  {
   "cell_type": "code",
   "execution_count": null,
   "metadata": {
    "vscode": {
     "languageId": "plaintext"
    }
   },
   "outputs": [],
   "source": [
    "from IPython.display import HTML\n",
    "\n",
    "svg_example2 = write_svg(example2)\n",
    "HTML(svg_example2)"
   ]
  }
 ],
 "metadata": {
  "language_info": {
   "name": "python"
  }
 },
 "nbformat": 4,
 "nbformat_minor": 2
}
