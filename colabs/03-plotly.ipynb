{
 "cells": [
  {
   "cell_type": "code",
   "execution_count": null,
   "metadata": {},
   "outputs": [],
   "source": [
    "# Installing build123d\n",
    "\n",
    "!pip install trianglesolver anytree ocpsvg ezdxf svgpathtools py-lib3mf\n",
    "!pip install --no-deps build123d\n",
    "\n",
    "\n",
    "\n",
    "\n"
   ]
  },
  {
   "cell_type": "code",
   "execution_count": null,
   "metadata": {},
   "outputs": [],
   "source": [
    "!pip install plotly\n",
    "!pip install numpy-stl\n"
   ]
  },
  {
   "cell_type": "code",
   "execution_count": null,
   "metadata": {},
   "outputs": [],
   "source": [
    "from build123d import *\n",
    "\n",
    "box = Box(20,50,5)\n",
    "\n",
    "export_stl(box, \"box.stl\")"
   ]
  },
  {
   "cell_type": "code",
   "execution_count": null,
   "metadata": {},
   "outputs": [],
   "source": [
    "import stl as mesh\n",
    "\n",
    "my_mesh = mesh.Mesh.from_file('box.stl')\n",
    "\n"
   ]
  },
  {
   "cell_type": "code",
   "execution_count": null,
   "metadata": {},
   "outputs": [],
   "source": [
    "import  plotly.graph_objects as go\n",
    "import numpy as np\n",
    "def stl2mesh3d(stl_mesh):\n",
    "    # stl_mesh is read by nympy-stl from a stl file; it is  an array of faces/triangles (i.e. three 3d points)\n",
    "    # this function extracts the unique vertices and the lists I, J, K to define a Plotly mesh3d\n",
    "    p, q, r = stl_mesh.vectors.shape #(p, 3, 3)\n",
    "    # the array stl_mesh.vectors.reshape(p*q, r) can contain multiple copies of the same vertex;\n",
    "    # extract unique vertices from all mesh triangles\n",
    "    vertices, ixr = np.unique(stl_mesh.vectors.reshape(p*q, r), return_inverse=True, axis=0)\n",
    "    I = np.take(ixr, [3*k for k in range(p)])\n",
    "    J = np.take(ixr, [3*k+1 for k in range(p)])\n",
    "    K = np.take(ixr, [3*k+2 for k in range(p)])\n",
    "    return vertices, I, J, K\n"
   ]
  },
  {
   "cell_type": "code",
   "execution_count": null,
   "metadata": {},
   "outputs": [],
   "source": [
    "vertices, I, J, K = stl2mesh3d(my_mesh)\n",
    "x, y, z = vertices.T\n",
    "\n",
    "vertices.shape\n",
    "(1171, 3)\n",
    "\n",
    "colorscale= [[0, '#e5dee5'], [1, '#e5dee5']]\n",
    "\n",
    "mesh3D = go.Mesh3d(\n",
    "            x=x,\n",
    "            y=y,\n",
    "            z=z,\n",
    "            i=I,\n",
    "            j=J,\n",
    "            k=K,\n",
    "            flatshading=True,\n",
    "            colorscale=colorscale,\n",
    "            name=\"boo\",\n",
    "            showscale=False\n",
    "\n",
    "            )\n",
    "\n",
    "\n",
    "fig = go.Figure(data=[mesh3D])\n",
    "name = 'Build123d'\n",
    "camera = dict(\n",
    "    eye=dict(x=1.25, y=1.25, z=1.25)\n",
    ")\n",
    "\n",
    "\n",
    "fig.update_layout(scene_camera=camera, title=name)\n",
    "fig.layout.dragmode = \"turntable\"\n",
    "fig.show()"
   ]
  }
 ],
 "metadata": {
  "kernelspec": {
   "display_name": ".venv",
   "language": "python",
   "name": "python3"
  },
  "language_info": {
   "name": "python",
   "version": "3.11.9"
  }
 },
 "nbformat": 4,
 "nbformat_minor": 2
}
