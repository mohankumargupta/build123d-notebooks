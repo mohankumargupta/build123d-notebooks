{
 "cells": [
  {
   "cell_type": "code",
   "execution_count": null,
   "id": "92305824",
   "metadata": {
    "lines_to_next_cell": 2
   },
   "outputs": [],
   "source": [
    "# Installing build123d\n",
    "\n",
    "!pip install trianglesolver anytree ocpsvg ezdxf svgpathtools py-lib3mf\n",
    "!pip install --no-deps build123d\n",
    "\n",
    "\n",
    "# Installing ipyvolume and friends\n",
    "\n",
    "!pip install ipyvolume numpy-stl numpy\n",
    "!jupyter nbextension enable --py --sys-prefix ipyvolume\n",
    "\n"
   ]
  },
  {
   "cell_type": "code",
   "execution_count": null,
   "id": "04fdf14b",
   "metadata": {},
   "outputs": [],
   "source": [
    "\n",
    "#!wget -O box.stl https://raw.githubusercontent.com/Buildbee/example-stl/main/ascii-cube.stl\n",
    "\n",
    "from build123d import *\n",
    "box = Box(10,10,10)\n",
    "export_stl(box, \"box.stl\")"
   ]
  },
  {
   "cell_type": "code",
   "execution_count": null,
   "id": "ac1db4f5",
   "metadata": {},
   "outputs": [],
   "source": [
    "import ipyvolume as ipv\n",
    "from stl import mesh\n",
    "import numpy as np\n",
    "\n",
    "my_mesh = mesh.Mesh.from_file('box.stl')\n",
    "\n",
    "fig = ipv.figure(width=800, height=600)\n",
    "ipv.style.box_off()\n",
    "ipv.style.axes_off()\n",
    "n = len(my_mesh.v0)\n",
    "ipv.plot_trisurf(x=my_mesh.x.ravel(order='F'),\n",
    "                 y=my_mesh.y.ravel(order='F'),\n",
    "                 z=my_mesh.z.ravel(order='F'),\n",
    "                 triangles=np.arange(3*n).reshape(n,3,order='F'),\n",
    "                 color=\"orange\")\n",
    "\n",
    "# fig.camera.up = (0, 1, 0)\n",
    "fig.camera.position = (2, 2, 2)\n",
    "# fig.camera.fov = 0.65\n",
    "# fig.camera.lookAt([0,0,0])\n",
    "\n",
    "ipv.show()"
   ]
  }
 ],
 "metadata": {
  "jupytext": {
   "cell_metadata_filter": "-all",
   "formats": "ipynb,py:percent",
   "main_language": "python"
  },
  "kernelspec": {
   "display_name": "3.11.9",
   "language": "python",
   "name": "python3"
  },
  "language_info": {
   "name": "python",
   "version": "3.11.9"
  }
 },
 "nbformat": 4,
 "nbformat_minor": 5
}
