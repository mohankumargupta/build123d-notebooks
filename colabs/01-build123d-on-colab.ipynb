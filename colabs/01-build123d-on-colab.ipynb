{
 "cells": [
  {
   "cell_type": "code",
   "execution_count": null,
   "id": "92305824",
   "metadata": {
    "lines_to_next_cell": 2
   },
   "outputs": [],
   "source": [
    "# Installing build123d\n",
    "\n",
    "!pip install trianglesolver anytree ocpsvg ezdxf svgpathtools py-lib3mf\n",
    "!pip install --no-deps build123d\n",
    "\n",
    "\n",
    "# Installing ipyvolume and friends\n",
    "\n",
    "!pip install ipyvolume numpy-stl numpy\n",
    "!jupyter nbextension enable --py --sys-prefix ipyvolume\n",
    "\n"
   ]
  },
  {
   "cell_type": "code",
   "execution_count": null,
   "id": "ac1db4f5",
   "metadata": {},
   "outputs": [],
   "source": [
    "import ipyvolume as ipv\n",
    "from stl import mesh\n",
    "import numpy as np\n",
    "from build123d import export_stl\n",
    "\n",
    "\n",
    "def show(shape):\n",
    "    filename = 'example.stl'\n",
    "    export_stl(shape, filename)\n",
    "    my_mesh = mesh.Mesh.from_file(filename)\n",
    "\n",
    "    x, y, z = my_mesh.x.flatten(), my_mesh.y.flatten(), my_mesh.z.flatten()\n",
    "    min_x, max_x = np.min(x), np.max(x)\n",
    "    min_y, max_y = np.min(y), np.max(y)\n",
    "    min_z, max_z = np.min(z), np.max(z)\n",
    "\n",
    "    bbox_size = max(max_x - min_x, max_y - min_y, max_z - min_z)\n",
    "    FUDGE_FACTOR = 2.5 # might need to adjust this setting to taste\n",
    "    distance = bbox_size * FUDGE_FACTOR\n",
    " \n",
    "    fig = ipv.figure(width=800, height=600)\n",
    "    ipv.pylab._grow_limits = lambda *ignore: None\n",
    "    ipv.style.box_off()\n",
    "    ipv.style.axes_off()\n",
    "    n = len(my_mesh.v0)\n",
    "    ipv.plot_trisurf(x=my_mesh.x.ravel(order='F'),\n",
    "                    y=my_mesh.y.ravel(order='F'),\n",
    "                    z=my_mesh.z.ravel(order='F'),\n",
    "                    triangles=np.arange(3*n).reshape(n,3,order='F'),\n",
    "                    color=\"orange\")\n",
    "\n",
    "    fig.camera.up = (0, 0, 1)\n",
    "    ipv.view(azimuth=45, elevation=30, distance=distance)\n",
    "    \n",
    "    #fig.camera.position = (2, 2, 2)\n",
    "    # fig.camera.fov = 0.65\n",
    "    # fig.camera.lookAt([0,0,0])\n",
    "\n",
    "    ipv.show()"
   ]
  },
  {
   "cell_type": "code",
   "execution_count": null,
   "id": "04fdf14b",
   "metadata": {},
   "outputs": [],
   "source": [
    "\n",
    "from build123d import *\n",
    "box = Box(20, 50, 5)\n",
    "show(box)"
   ]
  }
 ],
 "metadata": {
  "jupytext": {
   "cell_metadata_filter": "-all",
   "formats": "ipynb,py:percent",
   "main_language": "python"
  },
  "kernelspec": {
   "display_name": "3.11.9",
   "language": "python",
   "name": "python3"
  },
  "language_info": {
   "name": "python",
   "version": "3.11.9"
  }
 },
 "nbformat": 4,
 "nbformat_minor": 5
}
